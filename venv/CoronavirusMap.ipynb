{
 "cells": [
  {
   "cell_type": "code",
   "execution_count": 3,
   "metadata": {},
   "outputs": [],
   "source": [
    "import numpy as np\n",
    "import pandas as pd\n",
    "import plotly as py\n",
    "import plotly.express as px\n",
    "import plotly.graph_objs as go\n",
    "from plotly.subplots import make_subplots\n",
    "from tabulate import tabulate\n",
    "import seaborn as sns"
   ]
  },
  {
   "cell_type": "code",
   "execution_count": 4,
   "metadata": {},
   "outputs": [],
   "source": [
    "df = pd.read_csv(\"data/New_Global_Mobility_Report.csv\", low_memory=False)"
   ]
  },
  {
   "cell_type": "code",
   "execution_count": 5,
   "metadata": {},
   "outputs": [
    {
     "name": "stdout",
     "output_type": "stream",
     "text": [
      "  country_region_code        country_region sub_region_1 sub_region_2  \\\n",
      "0                  AE  United Arab Emirates          NaN          NaN   \n",
      "1                  AE  United Arab Emirates          NaN          NaN   \n",
      "2                  AE  United Arab Emirates          NaN          NaN   \n",
      "3                  AE  United Arab Emirates          NaN          NaN   \n",
      "4                  AE  United Arab Emirates          NaN          NaN   \n",
      "\n",
      "  iso_3166_2_code  census_fips_code        date  \\\n",
      "0             NaN               NaN  2020-02-15   \n",
      "1             NaN               NaN  2020-02-16   \n",
      "2             NaN               NaN  2020-02-17   \n",
      "3             NaN               NaN  2020-02-18   \n",
      "4             NaN               NaN  2020-02-19   \n",
      "\n",
      "   retail_and_recreation_percent_change_from_baseline  \\\n",
      "0                                                0.0    \n",
      "1                                                1.0    \n",
      "2                                               -1.0    \n",
      "3                                               -2.0    \n",
      "4                                               -2.0    \n",
      "\n",
      "   grocery_and_pharmacy_percent_change_from_baseline  \\\n",
      "0                                                4.0   \n",
      "1                                                4.0   \n",
      "2                                                1.0   \n",
      "3                                                1.0   \n",
      "4                                                0.0   \n",
      "\n",
      "   parks_percent_change_from_baseline  \\\n",
      "0                                 5.0   \n",
      "1                                 4.0   \n",
      "2                                 5.0   \n",
      "3                                 5.0   \n",
      "4                                 4.0   \n",
      "\n",
      "   transit_stations_percent_change_from_baseline  \\\n",
      "0                                            0.0   \n",
      "1                                            1.0   \n",
      "2                                            1.0   \n",
      "3                                            0.0   \n",
      "4                                           -1.0   \n",
      "\n",
      "   workplaces_percent_change_from_baseline  \\\n",
      "0                                      2.0   \n",
      "1                                      2.0   \n",
      "2                                      2.0   \n",
      "3                                      2.0   \n",
      "4                                      2.0   \n",
      "\n",
      "   residential_percent_change_from_baseline  \n",
      "0                                       1.0  \n",
      "1                                       1.0  \n",
      "2                                       1.0  \n",
      "3                                       1.0  \n",
      "4                                       1.0  \n"
     ]
    }
   ],
   "source": [
    "df.head()"
   ]
  },
  {
   "cell_type": "code",
   "execution_count": null,
   "metadata": {},
   "outputs": [],
   "source": [
    "df.head()"
   ]
  },
  {
   "cell_type": "code",
   "execution_count": 8,
   "metadata": {},
   "outputs": [
    {
     "data": {
      "text/plain": [
       "array([  1.,   0.,   2.,   3.,   4.,   5.,   6.,   7.,   9.,  11.,  10.,\n",
       "        13.,  14.,  17.,  21.,  25.,  28.,  26.,  22.,  31.,  30.,  33.,\n",
       "        23.,  24.,  34.,  32.,  29.,  27.,  36.,  19.,  16.,  20.,  15.,\n",
       "         8.,  18.,  12.,  40.,  39.,  38.,  37.,  41.,  35.,  nan,  -1.,\n",
       "        -6.,  -2.,  43.,  42.,  -3.,  -4.,  -5.,  -7.,  47.,  44.,  46.,\n",
       "        48.,  51.,  45.,  52.,  -8.,  50.,  53.,  -9.,  49., -10., -14.,\n",
       "       -21., -25., -12., -11.,  56.,  55.,  54., -16.])"
      ]
     },
     "execution_count": 8,
     "metadata": {},
     "output_type": "execute_result"
    }
   ],
   "source": [
    "df.residential_percent_change_from_baseline.unique()"
   ]
  },
  {
   "cell_type": "code",
   "execution_count": 6,
   "metadata": {},
   "outputs": [
    {
     "data": {
      "text/plain": [
       "(571342, 13)"
      ]
     },
     "execution_count": 6,
     "metadata": {},
     "output_type": "execute_result"
    }
   ],
   "source": [
    "df.shape"
   ]
  },
  {
   "cell_type": "code",
   "execution_count": 9,
   "metadata": {},
   "outputs": [],
   "source": [
    "df = df.rename(columns={'country_region':'Country'})\n",
    "df = df.rename(columns={'date':'Date'})\n",
    "df = df.rename(columns={'retail_and_recreation_percent_change_from_baseline':'retail'})\n",
    "df = df.rename(columns={'grocery_and_pharmacy_percent_change_from_baseline':'pharmacy'})\n",
    "df = df.rename(columns={'parks_percent_change_from_baseline':'parks'})\n",
    "df = df.rename(columns={'transit_stations_percent_change_from_baseline':'transit_station'})\n",
    "df = df.rename(columns={'workplaces_percent_change_from_baseline':'workplaces'})\n",
    "df = df.rename(columns={'residential_percent_change_from_baseline':'residential'})\n",
    "df.drop(['country_region_code','sub_region_1', 'sub_region_2', 'census_fips_code', 'iso_3166_2_code'], axis=1, inplace = True)"
   ]
  },
  {
   "cell_type": "code",
   "execution_count": null,
   "metadata": {},
   "outputs": [],
   "source": []
  }
 ],
 "metadata": {
  "kernelspec": {
   "display_name": "Python 3",
   "language": "python",
   "name": "python3"
  },
  "language_info": {
   "codemirror_mode": {
    "name": "ipython",
    "version": 3
   },
   "file_extension": ".py",
   "mimetype": "text/x-python",
   "name": "python",
   "nbconvert_exporter": "python",
   "pygments_lexer": "ipython3",
   "version": "3.7.1"
  }
 },
 "nbformat": 4,
 "nbformat_minor": 2
}
